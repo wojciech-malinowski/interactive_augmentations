{
 "cells": [
  {
   "cell_type": "code",
   "execution_count": 33,
   "metadata": {},
   "outputs": [
    {
     "name": "stdout",
     "output_type": "stream",
     "text": [
      "Collecting git+git://github.com/wojciech-malinowski/interactive_augmentations.git\n",
      "  Cloning git://github.com/wojciech-malinowski/interactive_augmentations.git to c:\\users\\user\\appdata\\local\\temp\\pip-req-build-ti1howqm\n",
      "Requirement already satisfied (use --upgrade to upgrade): interactive-augmentations==0.0.1 from git+git://github.com/wojciech-malinowski/interactive_augmentations.git in c:\\users\\user\\anaconda3\\lib\\site-packages\n",
      "Building wheels for collected packages: interactive-augmentations\n",
      "  Building wheel for interactive-augmentations (setup.py): started\n",
      "  Building wheel for interactive-augmentations (setup.py): finished with status 'done'\n",
      "  Stored in directory: C:\\Users\\User\\AppData\\Local\\Temp\\pip-ephem-wheel-cache-mm0cusz9\\wheels\\f1\\aa\\44\\8f3959e9e54a3cd23fef764285e9c44240f857138c3b7e99fb\n",
      "Successfully built interactive-augmentations\n"
     ]
    },
    {
     "name": "stderr",
     "output_type": "stream",
     "text": [
      "System nie moľe odnale«† okre�lonej �cieľki.\n"
     ]
    }
   ],
   "source": [
    "#install the package\n",
    "!pip install git+git://github.com/wojciech-malinowski/interactive_augmentations.git"
   ]
  },
  {
   "cell_type": "code",
   "execution_count": 34,
   "metadata": {},
   "outputs": [],
   "source": [
    "from interactive_augmentations import AugmentationExplorer\n",
    "import albumentations as A"
   ]
  },
  {
   "cell_type": "markdown",
   "metadata": {},
   "source": [
    "The images used in this notebook were made by:\n",
    "https://www.instagram.com/tsapolka/ and\n",
    "https://www.instagram.com/linakivaka/ .\n",
    "Thank you a lot!"
   ]
  },
  {
   "cell_type": "code",
   "execution_count": 23,
   "metadata": {},
   "outputs": [],
   "source": [
    "img_paths = ['cat.jpg','dog.jpg']\n",
    "augmentatios = [A.Rotate()] #the list of augmentations you want to pass. \n",
    "num_rows = 4"
   ]
  },
  {
   "cell_type": "code",
   "execution_count": 24,
   "metadata": {},
   "outputs": [],
   "source": [
    "explorer = AugmentationExplorer(augmentations = augmentatios,\n",
    "                                img_paths = img_paths,\n",
    "                                num_rows = num_rows)"
   ]
  },
  {
   "cell_type": "code",
   "execution_count": 28,
   "metadata": {},
   "outputs": [],
   "source": [
    "#or if you don't have any augmentations that you want to pass and dont mind for examples of the augmentation being showed \n",
    "explorer = AugmentationExplorer(img_paths = img_paths)"
   ]
  },
  {
   "cell_type": "code",
   "execution_count": 29,
   "metadata": {},
   "outputs": [
    {
     "data": {
      "application/vnd.jupyter.widget-view+json": {
       "model_id": "0e875fa2523c4e43ab4df630d0690538",
       "version_major": 2,
       "version_minor": 0
      },
      "text/plain": [
       "HBox(children=(Label(value='Choose your augmentation'),))"
      ]
     },
     "metadata": {},
     "output_type": "display_data"
    },
    {
     "data": {
      "application/vnd.jupyter.widget-view+json": {
       "model_id": "b5d57c45a0ae4a6fb65a374a551dd5b0",
       "version_major": 2,
       "version_minor": 0
      },
      "text/plain": [
       "Dropdown(options=('Blur', 'CLAHE', 'CenterCrop', 'ChannelDropout', 'ChannelShuffle', 'FancyPCA', 'Flip', 'Gaus…"
      ]
     },
     "metadata": {},
     "output_type": "display_data"
    },
    {
     "data": {
      "application/vnd.jupyter.widget-view+json": {
       "model_id": "38331b09a8b44a4fbcca1cbcf8f1c319",
       "version_major": 2,
       "version_minor": 0
      },
      "text/plain": [
       "Output()"
      ]
     },
     "metadata": {},
     "output_type": "display_data"
    }
   ],
   "source": [
    "explorer.choose_augmentation()"
   ]
  },
  {
   "cell_type": "markdown",
   "metadata": {},
   "source": [
    "Note that the augmentatinos changing size of the image can only be added with a probability equal to 1."
   ]
  },
  {
   "cell_type": "markdown",
   "metadata": {},
   "source": [
    "Once you have chose all augmentations you like, you may get an Albumentations composition of them."
   ]
  },
  {
   "cell_type": "code",
   "execution_count": 31,
   "metadata": {},
   "outputs": [
    {
     "data": {
      "text/plain": [
       "Compose([\n",
       "  Blur(always_apply=False, p=0.5, blur_limit=(3, 31)),\n",
       "], p=1.0, bbox_params=None, keypoint_params=None, additional_targets={})"
      ]
     },
     "execution_count": 31,
     "metadata": {},
     "output_type": "execute_result"
    }
   ],
   "source": [
    "explorer.get_augmentations()"
   ]
  },
  {
   "cell_type": "markdown",
   "metadata": {},
   "source": [
    "If you added an augmentation by mistake or just want to delete that, here's how you can do that."
   ]
  },
  {
   "cell_type": "code",
   "execution_count": 32,
   "metadata": {},
   "outputs": [
    {
     "data": {
      "application/vnd.jupyter.widget-view+json": {
       "model_id": "6d30e7ed6b624a09ab86f0d84c00b936",
       "version_major": 2,
       "version_minor": 0
      },
      "text/plain": [
       "HBox(children=(Label(value='Choose the augmentation you want to delete'),))"
      ]
     },
     "metadata": {},
     "output_type": "display_data"
    },
    {
     "data": {
      "application/vnd.jupyter.widget-view+json": {
       "model_id": "376d7cdd500947f9b99a583c89472c8e",
       "version_major": 2,
       "version_minor": 0
      },
      "text/plain": [
       "Dropdown(options=(Blur(always_apply=False, p=0.5, blur_limit=(3, 31)),), value=Blur(always_apply=False, p=0.5,…"
      ]
     },
     "metadata": {},
     "output_type": "display_data"
    },
    {
     "data": {
      "application/vnd.jupyter.widget-view+json": {
       "model_id": "93ec6993b5164cc7ad8b0a9175f6ba01",
       "version_major": 2,
       "version_minor": 0
      },
      "text/plain": [
       "Button(description='Delete', style=ButtonStyle())"
      ]
     },
     "metadata": {},
     "output_type": "display_data"
    },
    {
     "data": {
      "application/vnd.jupyter.widget-view+json": {
       "model_id": "2fd77139deff44ef8c45ad95cb3d1ce0",
       "version_major": 2,
       "version_minor": 0
      },
      "text/plain": [
       "Output()"
      ]
     },
     "metadata": {},
     "output_type": "display_data"
    }
   ],
   "source": [
    "explorer.delete_augmentation()"
   ]
  },
  {
   "cell_type": "code",
   "execution_count": null,
   "metadata": {},
   "outputs": [],
   "source": []
  },
  {
   "cell_type": "code",
   "execution_count": null,
   "metadata": {},
   "outputs": [],
   "source": []
  }
 ],
 "metadata": {
  "kernelspec": {
   "display_name": "Python 3",
   "language": "python",
   "name": "python3"
  },
  "language_info": {
   "codemirror_mode": {
    "name": "ipython",
    "version": 3
   },
   "file_extension": ".py",
   "mimetype": "text/x-python",
   "name": "python",
   "nbconvert_exporter": "python",
   "pygments_lexer": "ipython3",
   "version": "3.7.3"
  }
 },
 "nbformat": 4,
 "nbformat_minor": 2
}
